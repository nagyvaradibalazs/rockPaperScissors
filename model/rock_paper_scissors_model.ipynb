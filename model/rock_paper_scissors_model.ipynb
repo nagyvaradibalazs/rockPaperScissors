{
  "nbformat": 4,
  "nbformat_minor": 0,
  "metadata": {
    "colab": {
      "name": "rock_paper_scissors_model",
      "provenance": [],
      "collapsed_sections": []
    },
    "kernelspec": {
      "name": "python3",
      "display_name": "Python 3"
    },
    "accelerator": "GPU"
  },
  "cells": [
    {
      "cell_type": "markdown",
      "metadata": {
        "id": "XtH_p4Vb3u2Z"
      },
      "source": [
        "credits:\r\n",
        "\r\n",
        "@ONLINE {rps,\r\n",
        "author = \"Laurence Moroney\",\r\n",
        "title = \"Rock, Paper, Scissors Dataset\",\r\n",
        "month = \"feb\",\r\n",
        "year = \"2019\",\r\n",
        "url = \"http://laurencemoroney.com/rock-paper-scissors-dataset\"\r\n",
        "}"
      ]
    },
    {
      "cell_type": "code",
      "metadata": {
        "id": "VntcCf9U21CG"
      },
      "source": [
        "#Google Colab session for training the model\r\n",
        "\r\n",
        "#manually install tensorflowjs\r\n",
        "!pip install tensorflowjs\r\n",
        "\r\n",
        "#import libraries\r\n",
        "import numpy as np\r\n",
        "import tensorflow as tf\r\n",
        "import tensorflow_datasets as tfds\r\n",
        "import tensorflowjs as tfjs\r\n",
        "from tensorflow import keras"
      ],
      "execution_count": null,
      "outputs": []
    },
    {
      "cell_type": "code",
      "metadata": {
        "id": "CsW4IJ143PP2"
      },
      "source": [
        "#import data from tensorflow dataset\r\n",
        "data_train, data_test = tfds.load('rock_paper_scissors', split=['train', 'test'])\r\n",
        "\r\n",
        "#preprocess train and test data\r\n",
        "img_train = np.array([img['image'].numpy()[:,:,1] for img in data_train])\r\n",
        "label_train = np.array([label['label'].numpy() for label in data_train])\r\n",
        "\r\n",
        "img_test = np.array([img['image'].numpy()[:,:,1] for img in data_test])\r\n",
        "label_test = np.array([label['label'].numpy() for label in data_test])"
      ],
      "execution_count": null,
      "outputs": []
    },
    {
      "cell_type": "code",
      "metadata": {
        "id": "rpA0MW7MAY0j"
      },
      "source": [
        "img_train = img_train.reshape([2520, 300, 300, 1])\r\n",
        "img_train = img_train / 255.0\r\n",
        "\r\n",
        "img_test = img_test.reshape([372, 300, 300, 1])\r\n",
        "img_test = img_test / 255.0"
      ],
      "execution_count": null,
      "outputs": []
    },
    {
      "cell_type": "code",
      "metadata": {
        "id": "HxXVW_C4PRe7"
      },
      "source": [
        "#create the model\r\n",
        "model = keras.Sequential([\r\n",
        "  keras.layers.AveragePooling2D(6, 6, input_shape=(300, 300, 1)),\r\n",
        "  keras.layers.Conv2D(128, 4, activation='relu'),\r\n",
        "  keras.layers.MaxPool2D(2, 2),\r\n",
        "  keras.layers.Dropout(0.25),\r\n",
        "  keras.layers.Conv2D(64, 4, activation='relu'),\r\n",
        "  keras.layers.MaxPool2D(2, 2),\r\n",
        "  keras.layers.Dropout(0.25),\r\n",
        "  keras.layers.Conv2D(32, 4, activation='relu'),\r\n",
        "  keras.layers.MaxPool2D(2, 2),\r\n",
        "  keras.layers.Dropout(0.25),\r\n",
        "  keras.layers.Flatten(),\r\n",
        "  keras.layers.Dense(64, activation='relu'),\r\n",
        "  keras.layers.Dropout(0.25),\r\n",
        "  keras.layers.Dense(3, activation='softmax')               \r\n",
        "])\r\n",
        "\r\n",
        "#define compile methods\r\n",
        "model.compile(optimizer='adam', loss=keras.losses.sparse_categorical_crossentropy, metrics=['accuracy'])"
      ],
      "execution_count": null,
      "outputs": []
    },
    {
      "cell_type": "code",
      "metadata": {
        "id": "C9daCEIzRd02",
        "colab": {
          "base_uri": "https://localhost:8080/"
        },
        "outputId": "31d2f5ac-223f-4977-8db6-1c6ea2cabeac"
      },
      "source": [
        "#train the model\r\n",
        "model.fit(img_train, label_train, epochs=10, batch_size=64)"
      ],
      "execution_count": null,
      "outputs": [
        {
          "output_type": "stream",
          "text": [
            "Epoch 1/10\n",
            "40/40 [==============================] - 1s 24ms/step - loss: 1.0766 - accuracy: 0.3971\n",
            "Epoch 2/10\n",
            "40/40 [==============================] - 1s 23ms/step - loss: 0.7265 - accuracy: 0.6791\n",
            "Epoch 3/10\n",
            "40/40 [==============================] - 1s 22ms/step - loss: 0.2017 - accuracy: 0.9283\n",
            "Epoch 4/10\n",
            "40/40 [==============================] - 1s 23ms/step - loss: 0.0568 - accuracy: 0.9850\n",
            "Epoch 5/10\n",
            "40/40 [==============================] - 1s 22ms/step - loss: 0.0335 - accuracy: 0.9895\n",
            "Epoch 6/10\n",
            "40/40 [==============================] - 1s 22ms/step - loss: 0.0207 - accuracy: 0.9956\n",
            "Epoch 7/10\n",
            "40/40 [==============================] - 1s 22ms/step - loss: 0.0199 - accuracy: 0.9925\n",
            "Epoch 8/10\n",
            "40/40 [==============================] - 1s 23ms/step - loss: 0.0331 - accuracy: 0.9882\n",
            "Epoch 9/10\n",
            "40/40 [==============================] - 1s 23ms/step - loss: 0.0062 - accuracy: 0.9995\n",
            "Epoch 10/10\n",
            "40/40 [==============================] - 1s 22ms/step - loss: 0.0068 - accuracy: 0.9986\n"
          ],
          "name": "stdout"
        },
        {
          "output_type": "execute_result",
          "data": {
            "text/plain": [
              "<tensorflow.python.keras.callbacks.History at 0x7f9c6402e9b0>"
            ]
          },
          "metadata": {
            "tags": []
          },
          "execution_count": 29
        }
      ]
    },
    {
      "cell_type": "code",
      "metadata": {
        "id": "-62vrV0YY9Lu",
        "colab": {
          "base_uri": "https://localhost:8080/"
        },
        "outputId": "8bf4dba9-ec4b-4342-a00d-b69d1e04cccb"
      },
      "source": [
        "#test the model\r\n",
        "loss, acc = model.evaluate(img_test, label_test)"
      ],
      "execution_count": null,
      "outputs": [
        {
          "output_type": "stream",
          "text": [
            "12/12 [==============================] - 0s 9ms/step - loss: 0.1660 - accuracy: 0.9435\n"
          ],
          "name": "stdout"
        }
      ]
    },
    {
      "cell_type": "code",
      "metadata": {
        "id": "1KyhVvACd_No",
        "colab": {
          "base_uri": "https://localhost:8080/"
        },
        "outputId": "d2914ba1-6fa0-4408-efc7-1133dd13f36f"
      },
      "source": [
        "#save tfjs model\r\n",
        "tfjs.converters.save_keras_model(model, 'rock_paper_scissors_model')"
      ],
      "execution_count": null,
      "outputs": [
        {
          "output_type": "stream",
          "text": [
            "/usr/local/lib/python3.6/dist-packages/tensorflowjs/converters/keras_h5_conversion.py:123: H5pyDeprecationWarning: The default file mode will change to 'r' (read-only) in h5py 3.0. To suppress this warning, pass the mode you need to h5py.File(), or set the global default h5.get_config().default_file_mode, or set the environment variable H5PY_DEFAULT_READONLY=1. Available modes are: 'r', 'r+', 'w', 'w-'/'x', 'a'. See the docs for details.\n",
            "  return h5py.File(h5file)\n"
          ],
          "name": "stderr"
        }
      ]
    }
  ]
}