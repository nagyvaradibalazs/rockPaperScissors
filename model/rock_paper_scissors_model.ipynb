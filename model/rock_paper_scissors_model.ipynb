{
  "nbformat": 4,
  "nbformat_minor": 0,
  "metadata": {
    "colab": {
      "name": "rock_paper_scissors_model",
      "provenance": [],
      "collapsed_sections": []
    },
    "kernelspec": {
      "name": "python3",
      "display_name": "Python 3"
    },
    "accelerator": "GPU"
  },
  "cells": [
    {
      "cell_type": "markdown",
      "metadata": {
        "id": "XtH_p4Vb3u2Z"
      },
      "source": [
        "credits:\r\n",
        "\r\n",
        "@ONLINE {rps,\r\n",
        "author = \"Laurence Moroney\",\r\n",
        "title = \"Rock, Paper, Scissors Dataset\",\r\n",
        "month = \"feb\",\r\n",
        "year = \"2019\",\r\n",
        "url = \"http://laurencemoroney.com/rock-paper-scissors-dataset\"\r\n",
        "}"
      ]
    },
    {
      "cell_type": "code",
      "metadata": {
        "id": "VntcCf9U21CG"
      },
      "source": [
        "#Google Colab session for training the model\r\n",
        "\r\n",
        "#manually install tensorflowjs\r\n",
        "!pip install tensorflowjs\r\n",
        "\r\n",
        "#import libraries\r\n",
        "import numpy as np\r\n",
        "import tensorflow as tf\r\n",
        "import tensorflow_datasets as tfds\r\n",
        "import tensorflowjs as tfjs\r\n",
        "from tensorflow import keras"
      ],
      "execution_count": null,
      "outputs": []
    },
    {
      "cell_type": "code",
      "metadata": {
        "id": "CsW4IJ143PP2"
      },
      "source": [
        "#import data from tensorflow dataset\r\n",
        "data_train, data_test = tfds.load('rock_paper_scissors', split=['train', 'test'])\r\n",
        "\r\n",
        "#preprocess train and test data\r\n",
        "img_train = np.array([img['image'].numpy()[:,:,1] for img in data_train])\r\n",
        "label_train = np.array([label['label'].numpy() for label in data_train])\r\n",
        "\r\n",
        "img_test = np.array([img['image'].numpy()[:,:,1] for img in data_test])\r\n",
        "label_test = np.array([label['label'].numpy() for label in data_test])"
      ],
      "execution_count": null,
      "outputs": []
    },
    {
      "cell_type": "code",
      "metadata": {
        "id": "rpA0MW7MAY0j"
      },
      "source": [
        "img_train = img_train.reshape([2520, 300, 300, 1])\r\n",
        "img_train = img_train / 255.0\r\n",
        "\r\n",
        "img_test = img_test.reshape([372, 300, 300, 1])\r\n",
        "img_test = img_test / 255.0"
      ],
      "execution_count": null,
      "outputs": []
    },
    {
      "cell_type": "code",
      "metadata": {
        "id": "HxXVW_C4PRe7"
      },
      "source": [
        "#create the model\r\n",
        "model = keras.Sequential([\r\n",
        "  keras.layers.AveragePooling2D(6, 6, input_shape=(300, 300, 1)),\r\n",
        "  keras.layers.Conv2D(128, 4, activation='relu'),\r\n",
        "  keras.layers.Conv2D(64, 4, activation='relu'),\r\n",
        "  keras.layers.Conv2D(32, 4, activation='relu'),\r\n",
        "  keras.layers.MaxPool2D(2, 2),\r\n",
        "  keras.layers.Dropout(0.5),\r\n",
        "  keras.layers.Flatten(),\r\n",
        "  keras.layers.Dense(64, activation='relu'),\r\n",
        "  keras.layers.Dropout(0.2),\r\n",
        "  keras.layers.Dense(3, activation='softmax')               \r\n",
        "])\r\n",
        "\r\n",
        "#define compile methods\r\n",
        "model.compile(optimizer='adam', loss=keras.losses.sparse_categorical_crossentropy, metrics=['accuracy'])"
      ],
      "execution_count": null,
      "outputs": []
    },
    {
      "cell_type": "code",
      "metadata": {
        "id": "C9daCEIzRd02"
      },
      "source": [
        "#train the model\r\n",
        "model.fit(img_train, label_train, epochs=8)"
      ],
      "execution_count": null,
      "outputs": []
    },
    {
      "cell_type": "code",
      "metadata": {
        "id": "-62vrV0YY9Lu"
      },
      "source": [
        "#test the model\r\n",
        "loss, acc = model.evaluate(img_test, label_test)"
      ],
      "execution_count": null,
      "outputs": []
    },
    {
      "cell_type": "code",
      "metadata": {
        "id": "1KyhVvACd_No"
      },
      "source": [
        "#save tfjs model\r\n",
        "tfjs.converters.save_keras_model(model, 'rock_paper_scissors_model')"
      ],
      "execution_count": null,
      "outputs": []
    }
  ]
}